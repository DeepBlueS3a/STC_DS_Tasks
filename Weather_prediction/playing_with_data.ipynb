{
 "cells": [
  {
   "cell_type": "code",
   "execution_count": 1,
   "metadata": {},
   "outputs": [],
   "source": [
    "import pandas as pd\n",
    "import numpy as np\n",
    "import matplotlib.pyplot as plt\n",
    "import seaborn as sns\n",
    "from datetime import timedelta"
   ]
  },
  {
   "cell_type": "code",
   "execution_count": 31,
   "metadata": {},
   "outputs": [],
   "source": [
    "weather_df = pd.read_csv(\"weatherAUS.csv\")"
   ]
  },
  {
   "cell_type": "code",
   "execution_count": 32,
   "metadata": {},
   "outputs": [],
   "source": [
    "weather_df = weather_df.fillna(0)"
   ]
  },
  {
   "cell_type": "code",
   "execution_count": 33,
   "metadata": {
    "scrolled": false
   },
   "outputs": [
    {
     "name": "stdout",
     "output_type": "stream",
     "text": [
      "Date\n",
      "Location\n",
      "MinTemp\n",
      "MaxTemp\n",
      "Rainfall\n",
      "Evaporation\n",
      "Sunshine\n",
      "WindGustDir\n",
      "WindGustSpeed\n",
      "WindDir9am\n",
      "WindDir3pm\n",
      "WindSpeed9am\n",
      "WindSpeed3pm\n",
      "Humidity9am\n",
      "Humidity3pm\n",
      "Pressure9am\n",
      "Pressure3pm\n",
      "Cloud9am\n",
      "Cloud3pm\n",
      "Temp9am\n",
      "Temp3pm\n",
      "RainToday\n",
      "RainTomorrow\n"
     ]
    }
   ],
   "source": [
    "for column in weather_df.columns:\n",
    "    print(column)"
   ]
  },
  {
   "cell_type": "code",
   "execution_count": 34,
   "metadata": {},
   "outputs": [],
   "source": [
    "weather_df[\"Date\"] = weather_df[\"Date\"].astype('datetime64[ns]')"
   ]
  },
  {
   "cell_type": "code",
   "execution_count": 35,
   "metadata": {},
   "outputs": [],
   "source": [
    "time_deltas = {\"week\":\n",
    "                   [timedelta(days=-1), timedelta(days=-2), \n",
    "                    timedelta(days=-3), timedelta(days=-4)],\n",
    "              \"1year\":\n",
    "                   [timedelta(days=-365), timedelta(days=-366), \n",
    "                    timedelta(days=-367), timedelta(days=-368), timedelta(days=-369)],\n",
    "               \"2years\":\n",
    "                   [timedelta(days=-730), timedelta(days=-731),\n",
    "                    timedelta(days=-732), timedelta(days=-733), timedelta(days=-734)]\n",
    "              }"
   ]
  },
  {
   "cell_type": "code",
   "execution_count": 36,
   "metadata": {},
   "outputs": [],
   "source": [
    "weather_df[\"RainToday\"] = weather_df[\"RainToday\"].apply(lambda x: 1 if x==\"Yes\" else 0)\n",
    "weather_df[\"RainTomorrow\"] = weather_df[\"RainTomorrow\"].apply(lambda x: 1 if x==\"Yes\" else 0)"
   ]
  },
  {
   "cell_type": "code",
   "execution_count": 37,
   "metadata": {},
   "outputs": [],
   "source": [
    "from sklearn.preprocessing import OneHotEncoder"
   ]
  },
  {
   "cell_type": "code",
   "execution_count": 38,
   "metadata": {},
   "outputs": [],
   "source": [
    "weather_df[\"Year\"] = weather_df[\"Date\"].apply(lambda x: x.year)\n",
    "weather_df[\"Month\"] = weather_df[\"Date\"].apply(lambda x: x.month)\n",
    "weather_df[\"Day\"] = weather_df[\"Date\"].apply(lambda x: x.day)\n",
    "weather_df = weather_df.drop([\"Date\"], axis=1)\n"
   ]
  },
  {
   "cell_type": "code",
   "execution_count": 39,
   "metadata": {},
   "outputs": [],
   "source": [
    "y = pd.get_dummies(weather_df.WindGustDir, prefix='WindGustDir')\n",
    "a = weather_df.copy()\n",
    "weather_df = a.join(y, how=\"outer\").drop([\"WindGustDir\"], axis=1)"
   ]
  },
  {
   "cell_type": "code",
   "execution_count": 40,
   "metadata": {},
   "outputs": [],
   "source": [
    "y = pd.get_dummies(weather_df.WindDir9am, prefix=\"WindDir9am\")\n",
    "a = weather_df.copy()\n",
    "weather_df = a.join(y, how=\"outer\").drop([\"WindDir9am\"], axis=1)"
   ]
  },
  {
   "cell_type": "code",
   "execution_count": 41,
   "metadata": {},
   "outputs": [],
   "source": [
    "y = pd.get_dummies(weather_df.WindDir3pm, prefix=\"WindDir3pm\")\n",
    "a = weather_df.copy()\n",
    "weather_df = a.join(y, how=\"outer\").drop([\"WindDir3pm\"], axis=1)"
   ]
  },
  {
   "cell_type": "code",
   "execution_count": 42,
   "metadata": {},
   "outputs": [],
   "source": [
    "y = pd.get_dummies(weather_df.Location, prefix=\"Location\")\n",
    "a = weather_df.copy()\n",
    "weather_df = a.join(y, how=\"outer\").drop([\"Location\"], axis=1)"
   ]
  },
  {
   "cell_type": "code",
   "execution_count": null,
   "metadata": {},
   "outputs": [],
   "source": []
  },
  {
   "cell_type": "code",
   "execution_count": 82,
   "metadata": {},
   "outputs": [],
   "source": [
    "from sklearn.model_selection import train_test_split\n",
    "from sklearn.metrics import classification_report, confusion_matrix, accuracy_score\n",
    "from sklearn.svm import SVC\n",
    "from sklearn.preprocessing import StandardScaler\n",
    "from sklearn.neighbors import KNeighborsClassifier, KNeighborsRegressor\n",
    "from sklearn.cluster import KMeans"
   ]
  },
  {
   "cell_type": "code",
   "execution_count": 44,
   "metadata": {},
   "outputs": [],
   "source": [
    "scaler = StandardScaler()\n",
    "scaled_data = scaler.fit(weather_df.values)\n",
    "scaled_data = scaler.transform(weather_df.values)\n",
    "scaled_df = pd.DataFrame(scaled_data, index=weather_df.index, columns=weather_df.columns)"
   ]
  },
  {
   "cell_type": "code",
   "execution_count": 74,
   "metadata": {},
   "outputs": [],
   "source": [
    "X = scaled_df.drop([\"RainTomorrow\"], axis=1)[1:]\n",
    "y = weather_df[\"RainTomorrow\"][1:]\n",
    "prev_day = scaled_df.copy()\n",
    "prev_day.columns = list(map(lambda x:x+\"_prev_day\", prev_day.columns))\n",
    "X = X.join(prev_day[:-1])\n",
    "X_train, X_test, y_train, y_test = train_test_split(X, y, test_size=0.30)"
   ]
  },
  {
   "cell_type": "code",
   "execution_count": 77,
   "metadata": {},
   "outputs": [],
   "source": [
    "X_train = X_train.fillna(0)\n",
    "X_test = X_test.fillna(0)"
   ]
  },
  {
   "cell_type": "code",
   "execution_count": 88,
   "metadata": {},
   "outputs": [
    {
     "data": {
      "text/plain": [
       "SVC()"
      ]
     },
     "execution_count": 88,
     "metadata": {},
     "output_type": "execute_result"
    }
   ],
   "source": [
    "svc_model = SVC()\n",
    "svc_model.fit(X_train, y_train)"
   ]
  },
  {
   "cell_type": "code",
   "execution_count": 92,
   "metadata": {},
   "outputs": [
    {
     "name": "stdout",
     "output_type": "stream",
     "text": [
      "Train Accuracy Score\n",
      "1.0\n"
     ]
    }
   ],
   "source": [
    "y_train_pred = svc_model.predict(X_train)\n",
    "print(\"Train Accuracy Score\")\n",
    "print(accuracy_score(y_train, y_train_pred))"
   ]
  },
  {
   "cell_type": "code",
   "execution_count": 90,
   "metadata": {},
   "outputs": [
    {
     "name": "stdout",
     "output_type": "stream",
     "text": [
      "[[79410     0]\n",
      " [    0 22411]]\n",
      "              precision    recall  f1-score   support\n",
      "\n",
      "           0       1.00      1.00      1.00     79410\n",
      "           1       1.00      1.00      1.00     22411\n",
      "\n",
      "    accuracy                           1.00    101821\n",
      "   macro avg       1.00      1.00      1.00    101821\n",
      "weighted avg       1.00      1.00      1.00    101821\n",
      "\n"
     ]
    }
   ],
   "source": [
    "print(confusion_matrix(y_train, y_train_pred))\n",
    "print(classification_report(y_train, y_train_pred))"
   ]
  },
  {
   "cell_type": "code",
   "execution_count": 91,
   "metadata": {},
   "outputs": [
    {
     "name": "stdout",
     "output_type": "stream",
     "text": [
      "Test accuracy score\n"
     ]
    },
    {
     "data": {
      "text/plain": [
       "0.9998854209633805"
      ]
     },
     "execution_count": 91,
     "metadata": {},
     "output_type": "execute_result"
    }
   ],
   "source": [
    "print(\"Test accuracy score\")\n",
    "accuracy_score(y_pred, y_test)"
   ]
  },
  {
   "cell_type": "code",
   "execution_count": 86,
   "metadata": {},
   "outputs": [
    {
     "name": "stdout",
     "output_type": "stream",
     "text": [
      "[[34169     2]\n",
      " [    3  9464]]\n",
      "              precision    recall  f1-score   support\n",
      "\n",
      "           0       1.00      1.00      1.00     34171\n",
      "           1       1.00      1.00      1.00      9467\n",
      "\n",
      "    accuracy                           1.00     43638\n",
      "   macro avg       1.00      1.00      1.00     43638\n",
      "weighted avg       1.00      1.00      1.00     43638\n",
      "\n"
     ]
    }
   ],
   "source": [
    "y_pred = svc_model.predict(X_test)\n",
    "print(confusion_matrix(y_pred, y_test))\n",
    "print(classification_report(y_pred, y_test))"
   ]
  },
  {
   "cell_type": "code",
   "execution_count": 81,
   "metadata": {},
   "outputs": [
    {
     "name": "stdout",
     "output_type": "stream",
     "text": [
      "[[33814  7100]\n",
      " [  358  2366]]\n",
      "              precision    recall  f1-score   support\n",
      "\n",
      "           0       0.99      0.83      0.90     40914\n",
      "           1       0.25      0.87      0.39      2724\n",
      "\n",
      "    accuracy                           0.83     43638\n",
      "   macro avg       0.62      0.85      0.64     43638\n",
      "weighted avg       0.94      0.83      0.87     43638\n",
      "\n"
     ]
    }
   ],
   "source": [
    "maxscore = 0\n",
    "least_error_model = None\n",
    "accuracies = []\n",
    "\n",
    "for neighbors in range(1, 50, 5):\n",
    "    knn = KNeighborsClassifier(neighbors)\n",
    "    knn.fit(X_train, y_train)\n",
    "    y_pred = knn.predict(X_test)\n",
    "    accuracy = accuracy_score(y_pred, y_test)\n",
    "    accuracies.append(accuracy)\n",
    "    print(\"Clusters : \", neighbors)\n",
    "    print(\"Accuracy : \", accuracy)\n",
    "    print(\"\\n\\n\")\n",
    "    if maxscore <= accuracy:\n",
    "        maxscore = accuracy\n",
    "        least_error_model = knn\n",
    "\n",
    "print(least_error_model)\n",
    "print(maxscore)\n",
    "plt.plot(accuracies)"
   ]
  },
  {
   "cell_type": "code",
   "execution_count": 83,
   "metadata": {},
   "outputs": [
    {
     "name": "stdout",
     "output_type": "stream",
     "text": [
      "Neighbors :  1\n",
      "Accuracy :  0.7830789678720381\n",
      "\n",
      "\n",
      "\n",
      "Neighbors :  6\n",
      "Accuracy :  0.09860671891470736\n",
      "\n",
      "\n",
      "\n",
      "Neighbors :  11\n",
      "Accuracy :  0.12392868600760805\n",
      "\n",
      "\n",
      "\n",
      "Neighbors :  16\n",
      "Accuracy :  0.06166643750859343\n",
      "\n",
      "\n",
      "\n",
      "Neighbors :  21\n",
      "Accuracy :  0.02188459599431688\n",
      "\n",
      "\n",
      "\n",
      "Neighbors :  26\n",
      "Accuracy :  0.02007424721572941\n",
      "\n",
      "\n",
      "\n",
      "Neighbors :  31\n",
      "Accuracy :  0.02949264402584903\n",
      "\n",
      "\n",
      "\n",
      "Neighbors :  36\n",
      "Accuracy :  0.031394656033732066\n",
      "\n",
      "\n",
      "\n",
      "Neighbors :  41\n",
      "Accuracy :  0.01938677299601265\n",
      "\n",
      "\n",
      "\n",
      "Neighbors :  46\n",
      "Accuracy :  0.017141023878271232\n",
      "\n",
      "\n",
      "\n",
      "KMeans(n_clusters=1)\n",
      "0.7830789678720381\n"
     ]
    },
    {
     "data": {
      "text/plain": [
       "[<matplotlib.lines.Line2D at 0x7ffa8969b940>]"
      ]
     },
     "execution_count": 83,
     "metadata": {},
     "output_type": "execute_result"
    },
    {
     "data": {
      "image/png": "[encoded data removed]",
      "text/plain": [
       "<Figure size 432x288 with 1 Axes>"
      ]
     },
     "metadata": {
      "needs_background": "light"
     },
     "output_type": "display_data"
    }
   ],
   "source": [
    "maxscore = 0\n",
    "least_error_model = None\n",
    "accuracies = []\n",
    "\n",
    "for neighbors in range(1, 50, 5):\n",
    "    knn = KMeans(neighbors)\n",
    "    knn.fit(X_train, y_train)\n",
    "    y_pred = knn.predict(X_test)\n",
    "    accuracy = accuracy_score(y_pred, y_test)\n",
    "    accuracies.append(accuracy)\n",
    "    print(\"Clusters : \", neighbors)\n",
    "    print(\"Accuracy : \", accuracy)\n",
    "    print(\"\\n\\n\")\n",
    "    if maxscore <= accuracy:\n",
    "        maxscore = accuracy\n",
    "        least_error_model = knn\n",
    "\n",
    "print(least_error_model)\n",
    "print(maxscore)\n",
    "plt.plot(accuracies)"
   ]
  },
  {
   "cell_type": "code",
   "execution_count": null,
   "metadata": {},
   "outputs": [],
   "source": []
  }
 ],
 "metadata": {
  "kernelspec": {
   "display_name": "Python3.8.0",
   "language": "python",
   "name": "python3.8.0"
  },
  "language_info": {
   "codemirror_mode": {
    "name": "ipython",
    "version": 3
   },
   "file_extension": ".py",
   "mimetype": "text/x-python",
   "name": "python",
   "nbconvert_exporter": "python",
   "pygments_lexer": "ipython3",
   "version": "3.8.0"
  }
 },
 "nbformat": 4,
 "nbformat_minor": 4
}
